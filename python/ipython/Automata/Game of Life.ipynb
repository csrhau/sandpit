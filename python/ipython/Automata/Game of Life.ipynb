{
 "cells": [
  {
   "cell_type": "code",
   "execution_count": 1,
   "metadata": {
    "collapsed": false
   },
   "outputs": [],
   "source": [
    "import numpy as np\n",
    "import matplotlib.pyplot as plt\n",
    "%matplotlib inline\n",
    "\n",
    "\n",
    "# Random Board:\n",
    "state = np.random.choice([0, 1], size=(60, 60), p=[4./5, 1./5])\n",
    "\n",
    "def advance(state):\n",
    "    \"\"\" game of life step using padding \"\"\"\n",
    "    hood = np.pad(state, 1, 'wrap')\n",
    "    neighbours = hood[0:-2,0:-2] + hood[1:-1,0:-2] + hood[2:,0:-2] +\\\n",
    "                 hood[0:-2,1:-1] + hood[2:,1:-1] +\\\n",
    "                 hood[0:-2,2:] + hood[1:-1,2:] + hood[2:,2:]\n",
    "    return np.where(np.logical_or(neighbours == 3, np.logical_and(neighbours == 2, state == 1)), 1, 0)\n",
    "\n",
    "def draw(state):\n",
    "    \"\"\" Draw a game of life board \"\"\"\n",
    "    plt.imshow(state, interpolation='nearest')\n",
    "    \n",
    "    \n",
    "\n"
   ]
  },
  {
   "cell_type": "code",
   "execution_count": 2,
   "metadata": {
    "collapsed": false
   },
   "outputs": [
    {
     "data": {
      "image/png": "[encoded data removed]",
      "text/plain": [
       "<matplotlib.figure.Figure at 0x1117b3470>"
      ]
     },
     "metadata": {},
     "output_type": "display_data"
    }
   ],
   "source": [
    "state=advance(state)\n",
    "draw(state)"
   ]
  },
  {
   "cell_type": "code",
   "execution_count": null,
   "metadata": {
    "collapsed": true
   },
   "outputs": [],
   "source": []
  }
 ],
 "metadata": {
  "kernelspec": {
   "display_name": "Python 3",
   "language": "python",
   "name": "python3"
  },
  "language_info": {
   "codemirror_mode": {
    "name": "ipython",
    "version": 3
   },
   "file_extension": ".py",
   "mimetype": "text/x-python",
   "name": "python",
   "nbconvert_exporter": "python",
   "pygments_lexer": "ipython3",
   "version": "3.5.1"
  }
 },
 "nbformat": 4,
 "nbformat_minor": 0
}
