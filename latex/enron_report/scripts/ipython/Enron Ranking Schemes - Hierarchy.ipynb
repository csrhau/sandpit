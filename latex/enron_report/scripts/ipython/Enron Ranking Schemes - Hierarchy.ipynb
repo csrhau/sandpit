{
 "cells": [
  {
   "cell_type": "markdown",
   "metadata": {},
   "source": [
    "### Load Data"
   ]
  },
  {
   "cell_type": "code",
   "execution_count": 29,
   "metadata": {
    "collapsed": false
   },
   "outputs": [
    {
     "name": "stdout",
     "output_type": "stream",
     "text": [
      "done\n"
     ]
    }
   ],
   "source": [
    "import json\n",
    "import itertools\n",
    "import pandas as pd\n",
    "import numpy as np\n",
    "import networkx as nx\n",
    "import matplotlib.pyplot as plt\n",
    "from collections import Counter, defaultdict\n",
    "%matplotlib inline\n",
    "\n",
    "message_counts = defaultdict(Counter)\n",
    "\n",
    "with open('../../local_data/graph.json', 'r') as infile:\n",
    "    data = json.load(infile)\n",
    "    for message in data:\n",
    "        message_counts[message['sender']].update(message['recipients'])\n",
    "message_matrix = pd.DataFrame(message_counts)\n",
    "adj_list = message_matrix.stack().reset_index()\n",
    "adj_list.columns = ['from', 'to', 'count']\n",
    "adj_list['weight'] = adj_list['count'].max() - adj_list['count'] \n",
    "\n",
    "\n",
    "graph = nx.DiGraph()\n",
    "graph.add_weighted_edges_from(adj_list[['from', 'to', 'weight']].itertuples(index=False))\n",
    "\n",
    "centroid = 'Jeff Skilling'\n",
    "\n",
    "treeform = nx.shortest_path(graph, source=centroid, weight='weight')\n",
    "treenodes = {n: {'name': n, 'children':[]} for n in graph.nodes() }\n",
    "\n",
    "def pairwise(iterable):\n",
    "    \"s -> (s0,s1), (s1,s2), (s2, s3), ...\"\n",
    "    a, b = itertools.tee(iterable)\n",
    "    next(b, None)\n",
    "    return zip(a, b)\n",
    "\n",
    "for path in treeform.values():\n",
    "    for start, finish in pairwise(path):\n",
    "        root = treenodes[start]['children']\n",
    "        leaf = treenodes[finish]\n",
    "        if leaf not in root:\n",
    "            root.append(leaf)        \n",
    "\n",
    "with open('data.json', 'w') as outfile:\n",
    "    json.dump(treenodes[centroid], outfile, sort_keys=True, indent=4, separators=(',', ': '))\n",
    "print('done')\n",
    "        "
   ]
  },
  {
   "cell_type": "markdown",
   "metadata": {},
   "source": [
    "### Function to rank an adjacency list based on a given alpha"
   ]
  }
 ],
 "metadata": {
  "kernelspec": {
   "display_name": "Python 3",
   "language": "python",
   "name": "python3"
  },
  "language_info": {
   "codemirror_mode": {
    "name": "ipython",
    "version": 3
   },
   "file_extension": ".py",
   "mimetype": "text/x-python",
   "name": "python",
   "nbconvert_exporter": "python",
   "pygments_lexer": "ipython3",
   "version": "3.5.1"
  }
 },
 "nbformat": 4,
 "nbformat_minor": 0
}
