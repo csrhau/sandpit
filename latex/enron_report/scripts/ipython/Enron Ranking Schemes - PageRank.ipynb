{
 "cells": [
  {
   "cell_type": "markdown",
   "metadata": {},
   "source": [
    "### Load Data"
   ]
  },
  {
   "cell_type": "code",
   "execution_count": 20,
   "metadata": {
    "collapsed": true
   },
   "outputs": [],
   "source": [
    "import json\n",
    "import pandas as pd\n",
    "import numpy as np\n",
    "import networkx as nx\n",
    "import matplotlib.pyplot as plt\n",
    "from collections import Counter, defaultdict\n",
    "%matplotlib inline\n",
    "\n",
    "message_counts = defaultdict(Counter)\n",
    "\n",
    "with open('../local_data/graph.json', 'r') as infile:\n",
    "    data = json.load(infile)\n",
    "    for message in data:\n",
    "        message_counts[message['sender']].update(message['recipients'])\n",
    "message_matrix = pd.DataFrame(message_counts)\n",
    "adj_list = message_matrix.stack().reset_index()\n",
    "adj_list.columns = ['from', 'to', 'count']\n"
   ]
  },
  {
   "cell_type": "markdown",
   "metadata": {},
   "source": [
    "### Function to rank an adjacency list based on a given alpha"
   ]
  },
  {
   "cell_type": "code",
   "execution_count": 92,
   "metadata": {
    "collapsed": false
   },
   "outputs": [],
   "source": [
    "def score(adj_list, alpha):\n",
    "    graph = nx.DiGraph()\n",
    "    graph.add_weighted_edges_from(adj_list.itertuples(index=False))\n",
    "    scores = pd.Series(nx.pagerank(graph, alpha=alpha), index=graph.nodes(), name='pagerank')\n",
    "    return scores"
   ]
  },
  {
   "cell_type": "markdown",
   "metadata": {},
   "source": [
    "### Plot bump chart for various alphas"
   ]
  },
  {
   "cell_type": "code",
   "execution_count": 112,
   "metadata": {
    "collapsed": false
   },
   "outputs": [
    {
     "data": {
      "image/png": "[encoded data removed]",
      "text/plain": [
       "<matplotlib.figure.Figure at 0x10f793e80>"
      ]
     },
     "metadata": {},
     "output_type": "display_data"
    }
   ],
   "source": [
    "scores = pd.DataFrame({a: score(adj_list, a) for a in np.arange(0,1,0.1)}).T\n",
    "important = set(scores.sum().sort_values().tail(8).index.values)\n",
    "\n",
    "for p in important:\n",
    "    plt.plot(scores[p])\n",
    "plt.show()\n"
   ]
  },
  {
   "cell_type": "markdown",
   "metadata": {},
   "source": [
    "### assuming 10% forward rate, here's a better ranking:"
   ]
  },
  {
   "cell_type": "code",
   "execution_count": 114,
   "metadata": {
    "collapsed": false
   },
   "outputs": [
    {
     "data": {
      "text/plain": [
       "Bill Williams III      1\n",
       "John J Lavorato        2\n",
       "Mike Grigsby           3\n",
       "Jeff Dasovich          4\n",
       "Chris Germany          5\n",
       "Tana Jones             6\n",
       "Susan M Scott          7\n",
       "Louise Kitchen         8\n",
       "Scott Neal             9\n",
       "Sally Beck            10\n",
       "Phillip M Love        11\n",
       "James D Steffes       12\n",
       "Debra Perlingiere     13\n",
       "Kate Symes            14\n",
       "Errol McLaughlin      15\n",
       "Don Baughman Jr.      16\n",
       "Mary Hain             17\n",
       "Sara Shackleton       18\n",
       "John Arnold           19\n",
       "Stephanie Panus       20\n",
       "Matthew Lenhart       21\n",
       "Cara Semperger        22\n",
       "Eric Bass             23\n",
       "Kevin M Presto        24\n",
       "Vince J Kaminski      25\n",
       "Kimberly Watson       26\n",
       "Kam Keiser            27\n",
       "Steven J Kean         28\n",
       "Shelley Corman        29\n",
       "Phillip K Allen       30\n",
       "                    ... \n",
       "Monika Causholli     119\n",
       "Jeff King            120\n",
       "Kevin Ruscitti       121\n",
       "Brad Mckay           122\n",
       "Judy Townsend        123\n",
       "Eric Saibi           124\n",
       "Paul Y'Barbo         125\n",
       "Joe Parks            126\n",
       "Robert Badeer        127\n",
       "Mike Maggi           128\n",
       "Lisa Gang            129\n",
       "Mike Swerzbin        130\n",
       "Geoff Storey         131\n",
       "Joe Quenet           132\n",
       "Vladi Pimenov        133\n",
       "Frank Ermis          134\n",
       "Matt Motley          135\n",
       "Cooper Richey        136\n",
       "Tom Donohoe          137\n",
       "Susan W Pereira      138\n",
       "Keith Holst          139\n",
       "Jason Wolfe          140\n",
       "Scott Hendrickson    141\n",
       "Eric Linder          142\n",
       "Phillip Platter      143\n",
       "Richard Ring         144\n",
       "Andrew H Lewis       145\n",
       "Steven Merris        146\n",
       "Steven South         147\n",
       "Robert Benson        148\n",
       "Name: pagerank, dtype: float64"
      ]
     },
     "execution_count": 114,
     "metadata": {},
     "output_type": "execute_result"
    }
   ],
   "source": [
    "score(adj_list, 0.1).rank(method='first', ascending=False).sort_values()"
   ]
  },
  {
   "cell_type": "code",
   "execution_count": null,
   "metadata": {
    "collapsed": true
   },
   "outputs": [],
   "source": []
  }
 ],
 "metadata": {
  "kernelspec": {
   "display_name": "Python 3",
   "language": "python",
   "name": "python3"
  },
  "language_info": {
   "codemirror_mode": {
    "name": "ipython",
    "version": 3
   },
   "file_extension": ".py",
   "mimetype": "text/x-python",
   "name": "python",
   "nbconvert_exporter": "python",
   "pygments_lexer": "ipython3",
   "version": "3.5.1"
  }
 },
 "nbformat": 4,
 "nbformat_minor": 0
}
